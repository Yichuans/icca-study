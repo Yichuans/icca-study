{
 "cells": [
  {
   "cell_type": "markdown",
   "metadata": {},
   "source": [
    "# README"
   ]
  },
  {
   "cell_type": "markdown",
   "metadata": {},
   "source": [
    "The spatial analysis was implemented using an arcpy script `species_richness_ver_multiprocessing_colleen.py`. The central idea is to get a two-columns relationship between the OIDs of `species data` and that of protected areas/ICCA/merge (protected area input data, hereafter referred to as `PA`) spatially. Details of how this analysis was carried out can be found in the script and won't be repeated here.\n",
    "\n",
    "The steps presented here concern non-spatial analysis of the resulting table from the spatial analysis. Notably the resulting table is joined by two lookup tables in order to bring in additional attributes from both `PA` and `species data`. It is these attributes that are used to group data, for example by red list categories, by country etc. By design, duplications of record exist and thus it is of great importance that **distinct** or **unique** should be used when counting."
   ]
  },
  {
   "cell_type": "markdown",
   "metadata": {},
   "source": [
    "# Load data and join lookup tables"
   ]
  },
  {
   "cell_type": "code",
   "execution_count": 186,
   "metadata": {
    "collapsed": true
   },
   "outputs": [],
   "source": [
    "# load all needed packages\n",
    "import pandas as pd\n",
    "import numpy as np\n",
    "\n",
    "# result table species_oid - pa_oid\n",
    "result = pd.read_csv(\"result.csv\")\n",
    "\n",
    "# look up attributes\n",
    "rl_lp = pd.read_csv(\"rl_lookup.csv\")\n",
    "pa_lp = pd.read_csv(\"pa_lookup.csv\")"
   ]
  },
  {
   "cell_type": "code",
   "execution_count": 187,
   "metadata": {
    "collapsed": false
   },
   "outputs": [
    {
     "data": {
      "text/plain": [
       "Index(['OBJECTID', 'id_no', 'binomial', 'presence', 'origin', 'seasonal',\n",
       "       'compiler', 'year', 'citation', 'source', 'dist_comm', 'island',\n",
       "       'subspecies', 'subpop', 'legend', 'tax_comm', 'kingdom_name',\n",
       "       'phylum_name', 'class_name', 'order_name', 'family_name', 'genus_name',\n",
       "       'friendly_name', 'code', 'Shape_Length', 'Shape_Area'],\n",
       "      dtype='object')"
      ]
     },
     "execution_count": 187,
     "metadata": {},
     "output_type": "execute_result"
    }
   ],
   "source": [
    "rl_lp.columns"
   ]
  },
  {
   "cell_type": "code",
   "execution_count": 188,
   "metadata": {
    "collapsed": false
   },
   "outputs": [],
   "source": [
    "temp_rl = pd.merge(result, rl_lp, left_on='OIDFC1', right_on='OBJECTID')"
   ]
  },
  {
   "cell_type": "code",
   "execution_count": 189,
   "metadata": {
    "collapsed": true
   },
   "outputs": [],
   "source": [
    "temp_rl = temp_rl.drop('OBJECTID', 1)"
   ]
  },
  {
   "cell_type": "code",
   "execution_count": 190,
   "metadata": {
    "collapsed": false
   },
   "outputs": [
    {
     "data": {
      "text/plain": [
       "Index(['OIDFC1', ' OIDFC2', 'id_no', 'binomial', 'presence', 'origin',\n",
       "       'seasonal', 'compiler', 'year', 'citation', 'source', 'dist_comm',\n",
       "       'island', 'subspecies', 'subpop', 'legend', 'tax_comm', 'kingdom_name',\n",
       "       'phylum_name', 'class_name', 'order_name', 'family_name', 'genus_name',\n",
       "       'friendly_name', 'code', 'Shape_Length', 'Shape_Area'],\n",
       "      dtype='object')"
      ]
     },
     "execution_count": 190,
     "metadata": {},
     "output_type": "execute_result"
    }
   ],
   "source": [
    "temp_rl.columns"
   ]
  },
  {
   "cell_type": "markdown",
   "metadata": {},
   "source": [
    "** For what ever reason, `OIDFC2` has become ` OIDFC2` (with a preceding space)"
   ]
  },
  {
   "cell_type": "code",
   "execution_count": 191,
   "metadata": {
    "collapsed": false
   },
   "outputs": [],
   "source": [
    "full_result = pd.merge(temp_rl, pa_lp, left_on=' OIDFC2', right_on='OBJECTID')"
   ]
  },
  {
   "cell_type": "code",
   "execution_count": 192,
   "metadata": {
    "collapsed": false
   },
   "outputs": [
    {
     "data": {
      "text/plain": [
       "Index(['OIDFC1', ' OIDFC2', 'id_no', 'binomial', 'presence', 'origin',\n",
       "       'seasonal', 'compiler', 'year', 'citation', 'source', 'dist_comm',\n",
       "       'island', 'subspecies', 'subpop', 'legend', 'tax_comm', 'kingdom_name',\n",
       "       'phylum_name', 'class_name', 'order_name', 'family_name', 'genus_name',\n",
       "       'friendly_name', 'code', 'Shape_Length_x', 'Shape_Area_x', 'OBJECTID',\n",
       "       'cat', 'iso3', 'Shape_Length_y', 'Shape_Area_y'],\n",
       "      dtype='object')"
      ]
     },
     "execution_count": 192,
     "metadata": {},
     "output_type": "execute_result"
    }
   ],
   "source": [
    "full_result.columns"
   ]
  },
  {
   "cell_type": "code",
   "execution_count": 194,
   "metadata": {
    "collapsed": false
   },
   "outputs": [
    {
     "data": {
      "text/plain": [
       "10695"
      ]
     },
     "execution_count": 194,
     "metadata": {},
     "output_type": "execute_result"
    }
   ],
   "source": [
    "# the total number of species involved (without POS filter)\n",
    "full_result.id_no.unique().size"
   ]
  },
  {
   "cell_type": "code",
   "execution_count": 193,
   "metadata": {
    "collapsed": false
   },
   "outputs": [],
   "source": [
    "# more concise df\n",
    "concise_result = full_result[['id_no', 'binomial', 'class_name', 'code', 'cat', 'iso3']]"
   ]
  },
  {
   "cell_type": "markdown",
   "metadata": {},
   "source": [
    "# Filters"
   ]
  },
  {
   "cell_type": "markdown",
   "metadata": {},
   "source": [
    "Here I specify conditions for dividing the data into segments"
   ]
  },
  {
   "cell_type": "code",
   "execution_count": null,
   "metadata": {
    "collapsed": true
   },
   "outputs": [],
   "source": [
    "# == the below two conditions must always be met to ensure valid RL intepretation ===\n",
    "\n",
    "# valid presence (1-2), origin (1-2) and seasonality (1-3)\n",
    "pos_condition = full_result.presence.isin([1,2]) & full_result.origin.isin([1,2]) & full_result.seasonal.isin([1,2,3])\n",
    "\n",
    "# exclude EX EW categories\n",
    "rl_condition = full_result.code.str.upper().isin(['LC', 'NT', 'VU', 'EN', 'CR', 'DD'])\n"
   ]
  },
  {
   "cell_type": "code",
   "execution_count": null,
   "metadata": {
    "collapsed": true
   },
   "outputs": [],
   "source": [
    "# threatened RL species, VU, EN and CR\n",
    "thr_condition = full_result.code.str.upper().isin(['VU', 'EN', 'CR'])"
   ]
  },
  {
   "cell_type": "code",
   "execution_count": 198,
   "metadata": {
    "collapsed": true
   },
   "outputs": [],
   "source": [
    "# species filters\n",
    "mammal_condition = full_result.class_name.str.upper().isin(['MAMMALIA'])\n",
    "bird_condition = full_result.class_name.str.upper().isin(['AVES'])\n",
    "amphibian_condition = full_result.class_name.str.upper().isin(['AMPHIBIA'])\n",
    "reptile_condition = full_result.class_name.str.upper().isin(['REPTILIA'])"
   ]
  },
  {
   "cell_type": "code",
   "execution_count": 199,
   "metadata": {
    "collapsed": true
   },
   "outputs": [],
   "source": [
    "# country and category conditions\n",
    "aus = full_result.iso3.str.upper() == 'AUS'\n",
    "bra = full_result.iso3.str.upper() == 'BRA'\n",
    "nam = full_result.iso3.str.upper() == 'NAM'\n",
    "\n",
    "comm = full_result.cat.str.upper() == 'COMM'\n",
    "others = full_result.cat.str.upper() == 'OTHERS'\n",
    "overlap = full_result.cat.str.upper() == 'OVERLAP'"
   ]
  },
  {
   "cell_type": "code",
   "execution_count": 200,
   "metadata": {
    "collapsed": true
   },
   "outputs": [],
   "source": [
    "# syntatic sugar if needed to look at detailed result\n",
    "## base\n",
    "base_filter = pos_condition & rl_condition\n",
    "\n",
    "## handy shortcuts\n",
    "filters = dict()\n",
    "filters['aus'] = aus\n",
    "filters['aus_comm'] = aus & comm\n",
    "filters['aus_others'] = aus & others\n",
    "filters['aus_overlap'] = aus & overlap\n",
    "filters['bra'] = bra\n",
    "filters['bra_comm'] = bra & comm\n",
    "filters['bra_others'] = bra & others\n",
    "filters['bra_overlap'] = bra & overlap\n",
    "filters['nam'] = nam\n",
    "filters['nam_comm'] = nam & comm\n",
    "filters['nam_others'] = nam & others\n",
    "filters['nam_overlap'] = nam & overlap"
   ]
  },
  {
   "cell_type": "markdown",
   "metadata": {},
   "source": [
    "# (Checks)"
   ]
  },
  {
   "cell_type": "markdown",
   "metadata": {},
   "source": [
    "Sanity checks on the result (can be safely ignored)"
   ]
  },
  {
   "cell_type": "code",
   "execution_count": 201,
   "metadata": {
    "collapsed": false
   },
   "outputs": [
    {
     "data": {
      "text/plain": [
       " OIDFC2\n",
       "1     3920\n",
       "2     4972\n",
       "3     1758\n",
       "4     4780\n",
       "5     3839\n",
       "6     5663\n",
       "7     2451\n",
       "8     3408\n",
       "9     4444\n",
       "10    1474\n",
       "Name: OIDFC1, dtype: int64"
      ]
     },
     "execution_count": 201,
     "metadata": {},
     "output_type": "execute_result"
    }
   ],
   "source": [
    "# the total number of species per PA merge\n",
    "result.groupby(' OIDFC2').OIDFC1.nunique()"
   ]
  },
  {
   "cell_type": "code",
   "execution_count": 202,
   "metadata": {
    "collapsed": false
   },
   "outputs": [
    {
     "data": {
      "text/html": [
       "<div>\n",
       "<table border=\"1\" class=\"dataframe\">\n",
       "  <thead>\n",
       "    <tr style=\"text-align: right;\">\n",
       "      <th></th>\n",
       "      <th>id_no</th>\n",
       "      <th>binomial</th>\n",
       "      <th>class_name</th>\n",
       "      <th>code</th>\n",
       "      <th>cat</th>\n",
       "      <th>iso3</th>\n",
       "    </tr>\n",
       "  </thead>\n",
       "  <tbody>\n",
       "    <tr>\n",
       "      <th>0</th>\n",
       "      <td>569.0</td>\n",
       "      <td>Aethomys chrysophilus</td>\n",
       "      <td>MAMMALIA</td>\n",
       "      <td>LC</td>\n",
       "      <td>comm</td>\n",
       "      <td>NAM</td>\n",
       "    </tr>\n",
       "    <tr>\n",
       "      <th>1</th>\n",
       "      <td>569.0</td>\n",
       "      <td>Aethomys chrysophilus</td>\n",
       "      <td>MAMMALIA</td>\n",
       "      <td>LC</td>\n",
       "      <td>comm</td>\n",
       "      <td>NAM</td>\n",
       "    </tr>\n",
       "    <tr>\n",
       "      <th>2</th>\n",
       "      <td>811.0</td>\n",
       "      <td>Alcelaphus buselaphus</td>\n",
       "      <td>MAMMALIA</td>\n",
       "      <td>LC</td>\n",
       "      <td>comm</td>\n",
       "      <td>NAM</td>\n",
       "    </tr>\n",
       "    <tr>\n",
       "      <th>3</th>\n",
       "      <td>811.0</td>\n",
       "      <td>Alcelaphus buselaphus</td>\n",
       "      <td>MAMMALIA</td>\n",
       "      <td>RE</td>\n",
       "      <td>comm</td>\n",
       "      <td>NAM</td>\n",
       "    </tr>\n",
       "    <tr>\n",
       "      <th>4</th>\n",
       "      <td>811.0</td>\n",
       "      <td>Alcelaphus buselaphus</td>\n",
       "      <td>MAMMALIA</td>\n",
       "      <td>LC</td>\n",
       "      <td>comm</td>\n",
       "      <td>NAM</td>\n",
       "    </tr>\n",
       "    <tr>\n",
       "      <th>5</th>\n",
       "      <td>811.0</td>\n",
       "      <td>Alcelaphus buselaphus</td>\n",
       "      <td>MAMMALIA</td>\n",
       "      <td>RE</td>\n",
       "      <td>comm</td>\n",
       "      <td>NAM</td>\n",
       "    </tr>\n",
       "    <tr>\n",
       "      <th>6</th>\n",
       "      <td>2274.0</td>\n",
       "      <td>Atelerix frontalis</td>\n",
       "      <td>MAMMALIA</td>\n",
       "      <td>LC</td>\n",
       "      <td>comm</td>\n",
       "      <td>NAM</td>\n",
       "    </tr>\n",
       "    <tr>\n",
       "      <th>7</th>\n",
       "      <td>2428.0</td>\n",
       "      <td>Austroglanis sclateri</td>\n",
       "      <td>ACTINOPTERYGII</td>\n",
       "      <td>LC</td>\n",
       "      <td>comm</td>\n",
       "      <td>NAM</td>\n",
       "    </tr>\n",
       "    <tr>\n",
       "      <th>8</th>\n",
       "      <td>3755.0</td>\n",
       "      <td>Canis mesomelas</td>\n",
       "      <td>MAMMALIA</td>\n",
       "      <td>LC</td>\n",
       "      <td>comm</td>\n",
       "      <td>NAM</td>\n",
       "    </tr>\n",
       "    <tr>\n",
       "      <th>9</th>\n",
       "      <td>3847.0</td>\n",
       "      <td>Caracal caracal</td>\n",
       "      <td>MAMMALIA</td>\n",
       "      <td>LC</td>\n",
       "      <td>comm</td>\n",
       "      <td>NAM</td>\n",
       "    </tr>\n",
       "  </tbody>\n",
       "</table>\n",
       "</div>"
      ],
      "text/plain": [
       "    id_no               binomial      class_name code   cat iso3\n",
       "0   569.0  Aethomys chrysophilus        MAMMALIA   LC  comm  NAM\n",
       "1   569.0  Aethomys chrysophilus        MAMMALIA   LC  comm  NAM\n",
       "2   811.0  Alcelaphus buselaphus        MAMMALIA   LC  comm  NAM\n",
       "3   811.0  Alcelaphus buselaphus        MAMMALIA   RE  comm  NAM\n",
       "4   811.0  Alcelaphus buselaphus        MAMMALIA   LC  comm  NAM\n",
       "5   811.0  Alcelaphus buselaphus        MAMMALIA   RE  comm  NAM\n",
       "6  2274.0     Atelerix frontalis        MAMMALIA   LC  comm  NAM\n",
       "7  2428.0  Austroglanis sclateri  ACTINOPTERYGII   LC  comm  NAM\n",
       "8  3755.0        Canis mesomelas        MAMMALIA   LC  comm  NAM\n",
       "9  3847.0        Caracal caracal        MAMMALIA   LC  comm  NAM"
      ]
     },
     "execution_count": 202,
     "metadata": {},
     "output_type": "execute_result"
    }
   ],
   "source": [
    "concise_result.head(10)"
   ]
  },
  {
   "cell_type": "code",
   "execution_count": 203,
   "metadata": {
    "collapsed": false
   },
   "outputs": [
    {
     "data": {
      "text/plain": [
       "4571"
      ]
     },
     "execution_count": 203,
     "metadata": {},
     "output_type": "execute_result"
    }
   ],
   "source": [
    "# unique number of species in australia\n",
    "concise_result[aus].id_no.nunique()"
   ]
  },
  {
   "cell_type": "code",
   "execution_count": 204,
   "metadata": {
    "collapsed": false
   },
   "outputs": [
    {
     "data": {
      "text/plain": [
       "8907"
      ]
     },
     "execution_count": 204,
     "metadata": {},
     "output_type": "execute_result"
    }
   ],
   "source": [
    "# unique number of species in COMM areas\n",
    "concise_result[comm].id_no.nunique()"
   ]
  },
  {
   "cell_type": "code",
   "execution_count": 205,
   "metadata": {
    "collapsed": false
   },
   "outputs": [
    {
     "data": {
      "text/plain": [
       "array(['MAMMALIA', 'ACTINOPTERYGII', 'AMPHIBIA', 'INSECTA', 'MALACOSTRACA',\n",
       "       'LILIOPSIDA', 'MAGNOLIOPSIDA', 'BIVALVIA', 'GASTROPODA', 'REPTILIA',\n",
       "       'POLYPODIOPSIDA', 'AVES', 'ISOETOPSIDA', 'DIPLOPODA',\n",
       "       'CHONDRICHTHYES', 'HOLOTHUROIDEA', 'MYXINI', 'ANTHOZOA', 'HYDROZOA',\n",
       "       'ARACHNIDA', 'CHAROPHYACEAE', 'AGARICOMYCETES', 'ENOPLA',\n",
       "       'CEPHALASPIDOMORPHI'], dtype=object)"
      ]
     },
     "execution_count": 205,
     "metadata": {},
     "output_type": "execute_result"
    }
   ],
   "source": [
    "full_result.class_name.unique()"
   ]
  },
  {
   "cell_type": "markdown",
   "metadata": {},
   "source": [
    "# Analysis"
   ]
  },
  {
   "cell_type": "code",
   "execution_count": 206,
   "metadata": {
    "collapsed": true
   },
   "outputs": [],
   "source": [
    "# group a give df by category and iso3\n",
    "def group(df):\n",
    "    \"\"\"<df>, <query> -> <df>\"\"\"\n",
    "    return df.groupby(['cat', 'iso3']).id_no.nunique().reset_index()\n",
    "\n",
    "def group_by_country(df):\n",
    "    return df.groupby('iso3').id_no.nunique()"
   ]
  },
  {
   "cell_type": "markdown",
   "metadata": {},
   "source": [
    "One type of analysis is to look at the number of species per taxon and compare the richness within PA and ICCAs"
   ]
  },
  {
   "cell_type": "code",
   "execution_count": 207,
   "metadata": {
    "collapsed": true
   },
   "outputs": [],
   "source": [
    "mammal, amphibian, bird = [group(concise_result[base_filter&species_condition]) for species_condition in [mammal_condition, amphibian_condition, bird_condition]]"
   ]
  },
  {
   "cell_type": "code",
   "execution_count": 208,
   "metadata": {
    "collapsed": true
   },
   "outputs": [],
   "source": [
    "mammal_thr, amphibian_thr, bird_thr = [group(concise_result[base_filter&thr_condition&species_condition]) for species_condition in [mammal_condition, amphibian_condition, bird_condition]]"
   ]
  },
  {
   "cell_type": "markdown",
   "metadata": {},
   "source": [
    "merge all the results into a single df"
   ]
  },
  {
   "cell_type": "code",
   "execution_count": 209,
   "metadata": {
    "collapsed": false
   },
   "outputs": [
    {
     "data": {
      "text/html": [
       "<div>\n",
       "<table border=\"1\" class=\"dataframe\">\n",
       "  <thead>\n",
       "    <tr style=\"text-align: right;\">\n",
       "      <th></th>\n",
       "      <th>cat</th>\n",
       "      <th>iso3</th>\n",
       "      <th>n_mammals</th>\n",
       "      <th>n_amphibian</th>\n",
       "      <th>n_bird</th>\n",
       "      <th>thr_n_mammal</th>\n",
       "      <th>thr_n_amphibian</th>\n",
       "      <th>thr_n_bird</th>\n",
       "    </tr>\n",
       "  </thead>\n",
       "  <tbody>\n",
       "    <tr>\n",
       "      <th>0</th>\n",
       "      <td>comm</td>\n",
       "      <td>AUS</td>\n",
       "      <td>256</td>\n",
       "      <td>142</td>\n",
       "      <td>658</td>\n",
       "      <td>35</td>\n",
       "      <td>22.0</td>\n",
       "      <td>43</td>\n",
       "    </tr>\n",
       "    <tr>\n",
       "      <th>1</th>\n",
       "      <td>comm</td>\n",
       "      <td>BRA</td>\n",
       "      <td>612</td>\n",
       "      <td>581</td>\n",
       "      <td>1656</td>\n",
       "      <td>72</td>\n",
       "      <td>8.0</td>\n",
       "      <td>120</td>\n",
       "    </tr>\n",
       "    <tr>\n",
       "      <th>2</th>\n",
       "      <td>comm</td>\n",
       "      <td>NAM</td>\n",
       "      <td>176</td>\n",
       "      <td>49</td>\n",
       "      <td>554</td>\n",
       "      <td>11</td>\n",
       "      <td>NaN</td>\n",
       "      <td>25</td>\n",
       "    </tr>\n",
       "    <tr>\n",
       "      <th>3</th>\n",
       "      <td>others</td>\n",
       "      <td>AUS</td>\n",
       "      <td>328</td>\n",
       "      <td>214</td>\n",
       "      <td>730</td>\n",
       "      <td>64</td>\n",
       "      <td>46.0</td>\n",
       "      <td>69</td>\n",
       "    </tr>\n",
       "    <tr>\n",
       "      <th>4</th>\n",
       "      <td>others</td>\n",
       "      <td>BRA</td>\n",
       "      <td>642</td>\n",
       "      <td>763</td>\n",
       "      <td>1718</td>\n",
       "      <td>83</td>\n",
       "      <td>27.0</td>\n",
       "      <td>154</td>\n",
       "    </tr>\n",
       "    <tr>\n",
       "      <th>5</th>\n",
       "      <td>others</td>\n",
       "      <td>NAM</td>\n",
       "      <td>210</td>\n",
       "      <td>52</td>\n",
       "      <td>578</td>\n",
       "      <td>18</td>\n",
       "      <td>1.0</td>\n",
       "      <td>35</td>\n",
       "    </tr>\n",
       "    <tr>\n",
       "      <th>6</th>\n",
       "      <td>overlap</td>\n",
       "      <td>AUS</td>\n",
       "      <td>222</td>\n",
       "      <td>116</td>\n",
       "      <td>585</td>\n",
       "      <td>25</td>\n",
       "      <td>17.0</td>\n",
       "      <td>26</td>\n",
       "    </tr>\n",
       "    <tr>\n",
       "      <th>7</th>\n",
       "      <td>overlap</td>\n",
       "      <td>BRA</td>\n",
       "      <td>560</td>\n",
       "      <td>499</td>\n",
       "      <td>1572</td>\n",
       "      <td>61</td>\n",
       "      <td>6.0</td>\n",
       "      <td>100</td>\n",
       "    </tr>\n",
       "    <tr>\n",
       "      <th>8</th>\n",
       "      <td>overlap</td>\n",
       "      <td>NAM</td>\n",
       "      <td>158</td>\n",
       "      <td>41</td>\n",
       "      <td>518</td>\n",
       "      <td>11</td>\n",
       "      <td>NaN</td>\n",
       "      <td>24</td>\n",
       "    </tr>\n",
       "  </tbody>\n",
       "</table>\n",
       "</div>"
      ],
      "text/plain": [
       "       cat iso3  n_mammals  n_amphibian  n_bird  thr_n_mammal  \\\n",
       "0     comm  AUS        256          142     658            35   \n",
       "1     comm  BRA        612          581    1656            72   \n",
       "2     comm  NAM        176           49     554            11   \n",
       "3   others  AUS        328          214     730            64   \n",
       "4   others  BRA        642          763    1718            83   \n",
       "5   others  NAM        210           52     578            18   \n",
       "6  overlap  AUS        222          116     585            25   \n",
       "7  overlap  BRA        560          499    1572            61   \n",
       "8  overlap  NAM        158           41     518            11   \n",
       "\n",
       "   thr_n_amphibian  thr_n_bird  \n",
       "0             22.0          43  \n",
       "1              8.0         120  \n",
       "2              NaN          25  \n",
       "3             46.0          69  \n",
       "4             27.0         154  \n",
       "5              1.0          35  \n",
       "6             17.0          26  \n",
       "7              6.0         100  \n",
       "8              NaN          24  "
      ]
     },
     "execution_count": 209,
     "metadata": {},
     "output_type": "execute_result"
    }
   ],
   "source": [
    "from functools import reduce\n",
    "\n",
    "# use reduce function to merge any given number of dfs; here i used a tuple in order to get suffix information\n",
    "# the first element is the df, the second a dummy value used in the reduce process\n",
    "output = reduce(lambda left, right: (pd.merge(left, right, on=['iso3', 'cat'], how='left')),\\\n",
    "                  [mammal, amphibian, bird, mammal_thr, amphibian_thr, bird_thr])\n",
    "\n",
    "output.columns = ['cat', 'iso3', 'n_mammals', 'n_amphibian', 'n_bird', 'thr_n_mammal', 'thr_n_amphibian', 'thr_n_bird']\n",
    "output"
   ]
  },
  {
   "cell_type": "code",
   "execution_count": 210,
   "metadata": {
    "collapsed": false
   },
   "outputs": [],
   "source": [
    "# fill NAs with 0 and export\n",
    "output = output.fillna(0)\n",
    "output.to_csv('output.csv')"
   ]
  },
  {
   "cell_type": "markdown",
   "metadata": {},
   "source": [
    "all mammal, amphibians, birds"
   ]
  },
  {
   "cell_type": "code",
   "execution_count": 211,
   "metadata": {
    "collapsed": false
   },
   "outputs": [],
   "source": [
    "# separately for species per country, regardless of categories\n",
    "output_all = reduce(lambda left, right: (pd.merge(left, right, on='iso3')), \\\n",
    "      [group_by_country(concise_result[base_filter&mammal_condition]).reset_index(), \\\n",
    "      group_by_country(concise_result[base_filter&amphibian_condition]).reset_index(), \\\n",
    "      group_by_country(concise_result[base_filter&bird_condition]).reset_index(), \\\n",
    "      group_by_country(concise_result[base_filter&thr_condition&mammal_condition]).reset_index(), \\\n",
    "      group_by_country(concise_result[base_filter&thr_condition&amphibian_condition]).reset_index(), \\\n",
    "      group_by_country(concise_result[base_filter&thr_condition&bird_condition]).reset_index()])\n",
    "\n",
    "output_all.columns = ['iso3', 'n_mammals', 'n_amphibian', 'n_bird', 'thr_n_mammal', 'thr_n_amphibian', 'thr_n_bird']\n",
    "output_all.to_csv('output_all.csv')"
   ]
  },
  {
   "cell_type": "markdown",
   "metadata": {},
   "source": [
    "Richness alone tells only part of the story, as it ignores an important element that some of the species may be present in both PA and ICCAs. It is possible that species in ICCAs are a subset of the species in PAs, thus ICCA do not in theory provide additional benefits, from the point of view of species numbers. Or may be there are far fewer species in ICCAs but these species are not found in PAs. In this scenario, no matter how small the number is, they would contribute and complement that of PA. Maybe unnecesarily complicated and not needed..."
   ]
  },
  {
   "cell_type": "code",
   "execution_count": 212,
   "metadata": {
    "collapsed": false
   },
   "outputs": [
    {
     "data": {
      "text/plain": [
       "1044"
      ]
     },
     "execution_count": 212,
     "metadata": {},
     "output_type": "execute_result"
    }
   ],
   "source": [
    "# 1044 species in australia PA but not in COMM\n",
    "np.setdiff1d(concise_result[pos_condition&rl_condition&aus&others].id_no, concise_result[pos_condition&rl_condition&aus&comm].id_no).size"
   ]
  },
  {
   "cell_type": "code",
   "execution_count": 213,
   "metadata": {
    "collapsed": false
   },
   "outputs": [
    {
     "data": {
      "text/plain": [
       "70"
      ]
     },
     "execution_count": 213,
     "metadata": {},
     "output_type": "execute_result"
    }
   ],
   "source": [
    "# 70 species in australia COMM but not in PA\n",
    "np.setdiff1d(concise_result[pos_condition&rl_condition&aus&comm].id_no, concise_result[pos_condition&rl_condition&aus&others].id_no).size"
   ]
  }
 ],
 "metadata": {
  "kernelspec": {
   "display_name": "Python 3",
   "language": "python",
   "name": "python3"
  },
  "language_info": {
   "codemirror_mode": {
    "name": "ipython",
    "version": 3
   },
   "file_extension": ".py",
   "mimetype": "text/x-python",
   "name": "python",
   "nbconvert_exporter": "python",
   "pygments_lexer": "ipython3",
   "version": "3.5.1"
  }
 },
 "nbformat": 4,
 "nbformat_minor": 0
}
